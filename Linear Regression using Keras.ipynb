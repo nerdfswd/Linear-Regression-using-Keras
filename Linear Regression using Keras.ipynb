{
 "cells": [
  {
   "cell_type": "code",
   "execution_count": 25,
   "metadata": {
    "scrolled": true
   },
   "outputs": [],
   "source": [
    "import keras #ML Library\n",
    "#from tensorflow.keras import backend as k\n",
    "import tensorflow as tf\n",
    "import numpy as np #Mathematics Library\n",
    "import pandas as pd #Data-handling Library\n",
    "import matplotlib.pyplot as plt #Used to graph our results\n",
    "#Using TensorFlow backend."
   ]
  },
  {
   "cell_type": "code",
   "execution_count": 26,
   "metadata": {},
   "outputs": [
    {
     "data": {
      "text/html": [
       "<div>\n",
       "<style scoped>\n",
       "    .dataframe tbody tr th:only-of-type {\n",
       "        vertical-align: middle;\n",
       "    }\n",
       "\n",
       "    .dataframe tbody tr th {\n",
       "        vertical-align: top;\n",
       "    }\n",
       "\n",
       "    .dataframe thead th {\n",
       "        text-align: right;\n",
       "    }\n",
       "</style>\n",
       "<table border=\"1\" class=\"dataframe\">\n",
       "  <thead>\n",
       "    <tr style=\"text-align: right;\">\n",
       "      <th></th>\n",
       "      <th>SquareFeet</th>\n",
       "      <th>SalePrice</th>\n",
       "    </tr>\n",
       "  </thead>\n",
       "  <tbody>\n",
       "    <tr>\n",
       "      <th>0</th>\n",
       "      <td>1710</td>\n",
       "      <td>208500</td>\n",
       "    </tr>\n",
       "    <tr>\n",
       "      <th>1</th>\n",
       "      <td>1262</td>\n",
       "      <td>181500</td>\n",
       "    </tr>\n",
       "    <tr>\n",
       "      <th>2</th>\n",
       "      <td>1786</td>\n",
       "      <td>223500</td>\n",
       "    </tr>\n",
       "    <tr>\n",
       "      <th>3</th>\n",
       "      <td>1717</td>\n",
       "      <td>140000</td>\n",
       "    </tr>\n",
       "    <tr>\n",
       "      <th>4</th>\n",
       "      <td>2198</td>\n",
       "      <td>250000</td>\n",
       "    </tr>\n",
       "  </tbody>\n",
       "</table>\n",
       "</div>"
      ],
      "text/plain": [
       "   SquareFeet  SalePrice\n",
       "0        1710     208500\n",
       "1        1262     181500\n",
       "2        1786     223500\n",
       "3        1717     140000\n",
       "4        2198     250000"
      ]
     },
     "execution_count": 26,
     "metadata": {},
     "output_type": "execute_result"
    }
   ],
   "source": [
    "#importing .csv file\n",
    "df=pd.read_csv(r'Downloads\\IowaHousingPrices.csv')\n",
    "df.head()"
   ]
  },
  {
   "cell_type": "code",
   "execution_count": 27,
   "metadata": {},
   "outputs": [],
   "source": [
    "#Now that we've loaded the csv into pandas, we will separate the two columns of features we want to use. \n",
    "#squareFeet will be our x value and salePrice will be our y value.\n",
    "squareFeet=df[['SquareFeet']].values\n",
    "salePrice=df[['SalePrice']].values"
   ]
  },
  {
   "cell_type": "code",
   "execution_count": 32,
   "metadata": {},
   "outputs": [
    {
     "name": "stdout",
     "output_type": "stream",
     "text": [
      "Train on 1460 samples\n",
      "Epoch 1/30\n",
      "1460/1460 [==============================] - 1s 878us/sample - loss: 15025368229.6986\n",
      "Epoch 2/30\n",
      "1460/1460 [==============================] - 1s 607us/sample - loss: 3365583850.9589\n",
      "Epoch 3/30\n",
      "1460/1460 [==============================] - 1s 443us/sample - loss: 3183498622.0274\n",
      "Epoch 4/30\n",
      "1460/1460 [==============================] - 1s 504us/sample - loss: 3185774236.0548\n",
      "Epoch 5/30\n",
      "1460/1460 [==============================] - 1s 489us/sample - loss: 3190350193.5342\n",
      "Epoch 6/30\n",
      "1460/1460 [==============================] - 1s 369us/sample - loss: 3189163661.8082\n",
      "Epoch 7/30\n",
      "1460/1460 [==============================] - 1s 445us/sample - loss: 3213267287.0137\n",
      "Epoch 8/30\n",
      "1460/1460 [==============================] - 1s 380us/sample - loss: 3196683998.4658\n",
      "Epoch 9/30\n",
      "1460/1460 [==============================] - 1s 461us/sample - loss: 3210281975.0137\n",
      "Epoch 10/30\n",
      "1460/1460 [==============================] - 1s 365us/sample - loss: 3199255464.1096\n",
      "Epoch 11/30\n",
      "1460/1460 [==============================] - 1s 498us/sample - loss: 3201529918.9041\n",
      "Epoch 12/30\n",
      "1460/1460 [==============================] - 1s 538us/sample - loss: 3209749937.7534\n",
      "Epoch 13/30\n",
      "1460/1460 [==============================] - 1s 377us/sample - loss: 3203514481.3151\n",
      "Epoch 14/30\n",
      "1460/1460 [==============================] - 1s 469us/sample - loss: 3202352816.8767\n",
      "Epoch 15/30\n",
      "1460/1460 [==============================] - 1s 394us/sample - loss: 3204351203.2877\n",
      "Epoch 16/30\n",
      "1460/1460 [==============================] - 1s 495us/sample - loss: 3209474928.0000\n",
      "Epoch 17/30\n",
      "1460/1460 [==============================] - 1s 393us/sample - loss: 3195021380.6027\n",
      "Epoch 18/30\n",
      "1460/1460 [==============================] - 1s 453us/sample - loss: 3221117521.3151\n",
      "Epoch 19/30\n",
      "1460/1460 [==============================] - 1s 410us/sample - loss: 3194309198.2466\n",
      "Epoch 20/30\n",
      "1460/1460 [==============================] - 1s 454us/sample - loss: 3196091550.4658\n",
      "Epoch 21/30\n",
      "1460/1460 [==============================] - ETA: 0s - loss: 3218077450.37 - 1s 434us/sample - loss: 3207083575.0137\n",
      "Epoch 22/30\n",
      "1460/1460 [==============================] - 1s 482us/sample - loss: 3205937247.1233\n",
      "Epoch 23/30\n",
      "1460/1460 [==============================] - 1s 499us/sample - loss: 3206312543.5616\n",
      "Epoch 24/30\n",
      "1460/1460 [==============================] - 1s 369us/sample - loss: 3192459760.4384\n",
      "Epoch 25/30\n",
      "1460/1460 [==============================] - 1s 469us/sample - loss: 3199132528.2192\n",
      "Epoch 26/30\n",
      "1460/1460 [==============================] - 1s 382us/sample - loss: 3219965254.1370\n",
      "Epoch 27/30\n",
      "1460/1460 [==============================] - 1s 548us/sample - loss: 3198984364.2740\n",
      "Epoch 28/30\n",
      "1460/1460 [==============================] - 1s 418us/sample - loss: 3227099432.3288\n",
      "Epoch 29/30\n",
      "1460/1460 [==============================] - 1s 536us/sample - loss: 3227440824.1096\n",
      "Epoch 30/30\n",
      "1460/1460 [==============================] - 1s 535us/sample - loss: 3216053975.6712\n"
     ]
    },
    {
     "data": {
      "text/plain": [
       "<tensorflow.python.keras.callbacks.History at 0x230046aa128>"
      ]
     },
     "execution_count": 32,
     "metadata": {},
     "output_type": "execute_result"
    }
   ],
   "source": [
    "#Here we create the model and fit it to our square feet and sale price.\n",
    "#Adjust the epochs, learning rate, and batch size for the outcome that is the fastest and most accurate.\n",
    "model = tf.keras.Sequential()\n",
    "model.add(tf.keras.layers.Dense(1, input_shape=(1,)))\n",
    "model.compile(tf.keras.optimizers.Adam(lr=1), 'mean_squared_error')\n",
    "model.fit(squareFeet,salePrice, epochs=30, batch_size=10)"
   ]
  },
  {
   "cell_type": "code",
   "execution_count": 34,
   "metadata": {},
   "outputs": [
    {
     "data": {
      "text/plain": [
       "[<matplotlib.lines.Line2D at 0x23004c08860>]"
      ]
     },
     "execution_count": 34,
     "metadata": {},
     "output_type": "execute_result"
    },
    {
     "data": {
      "image/png": "[encoded data removed]",
      "text/plain": [
       "<Figure size 432x288 with 1 Axes>"
      ]
     },
     "metadata": {
      "needs_background": "light"
     },
     "output_type": "display_data"
    }
   ],
   "source": [
    "#Now that our model is trained, we need to use matplotlib to plot our data and \n",
    "#the line that we have created so that we can see how accurate it is.\n",
    "df.plot(kind='scatter',x='SquareFeet',y='SalePrice',title='Housing Prices & Square Footage of Iova Homes')\n",
    "y_pred = model.predict(squareFeet)\n",
    "#Plot the linear regression line\n",
    "plt.plot(squareFeet, y_pred, color='red')"
   ]
  },
  {
   "cell_type": "code",
   "execution_count": 35,
   "metadata": {},
   "outputs": [
    {
     "name": "stdout",
     "output_type": "stream",
     "text": [
      "[[229835.05]]\n"
     ]
    }
   ],
   "source": [
    "#Finally, if we want to predict the price of a new house, we use the following code. \n",
    "#We set the square footage equale to newSF and the output is the expected price in US dollars\n",
    "newSF = 2000\n",
    "print(model.predict([newSF]))"
   ]
  }
 ],
 "metadata": {
  "kernelspec": {
   "display_name": "Python 3",
   "language": "python",
   "name": "python3"
  },
  "language_info": {
   "codemirror_mode": {
    "name": "ipython",
    "version": 3
   },
   "file_extension": ".py",
   "mimetype": "text/x-python",
   "name": "python",
   "nbconvert_exporter": "python",
   "pygments_lexer": "ipython3",
   "version": "3.6.2"
  }
 },
 "nbformat": 4,
 "nbformat_minor": 4
}
